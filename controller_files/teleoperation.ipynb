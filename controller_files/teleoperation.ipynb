{
 "cells": [
  {
   "cell_type": "code",
   "execution_count": 10,
   "id": "52601e8d",
   "metadata": {},
   "outputs": [],
   "source": [
    "import ipywidgets.widgets as widgets"
   ]
  },
  {
   "cell_type": "code",
   "execution_count": 13,
   "id": "11890892",
   "metadata": {},
   "outputs": [],
   "source": [
    "controller=widgets.Controller(index=0)"
   ]
  },
  {
   "cell_type": "code",
   "execution_count": 14,
   "id": "9b67728d",
   "metadata": {},
   "outputs": [
    {
     "data": {
      "application/vnd.jupyter.widget-view+json": {
       "model_id": "faf3812cc5244ba6823513e3ef56b3b7",
       "version_major": 2,
       "version_minor": 0
      },
      "text/plain": [
       "Controller(axes=(Axis(value=0.0), Axis(value=0.0), Axis(value=0.0), Axis(value=0.0)), buttons=(Button(value=0.…"
      ]
     },
     "metadata": {},
     "output_type": "display_data"
    }
   ],
   "source": [
    "display(controller)"
   ]
  },
  {
   "cell_type": "code",
   "execution_count": 15,
   "id": "33ca10c2",
   "metadata": {},
   "outputs": [],
   "source": [
    "from jetracer.nvidia_racecar import NvidiaRacecar"
   ]
  },
  {
   "cell_type": "code",
   "execution_count": 16,
   "id": "002ef898",
   "metadata": {},
   "outputs": [],
   "source": [
    "import traitlets"
   ]
  },
  {
   "cell_type": "code",
   "execution_count": 17,
   "id": "b7559fcf",
   "metadata": {},
   "outputs": [],
   "source": [
    "car=NvidiaRacecar()"
   ]
  },
  {
   "cell_type": "code",
   "execution_count": 18,
   "id": "ea2dbb68",
   "metadata": {},
   "outputs": [],
   "source": [
    "car.throttle_gain=0.2\n",
    "#car.throttle = 0\n",
    "car.steering_offset=0\n",
    "#car.steering=0\n",
    "car.steering_gain=-1\n",
    "\n"
   ]
  },
  {
   "cell_type": "code",
   "execution_count": 19,
   "id": "768e1ca7",
   "metadata": {},
   "outputs": [],
   "source": [
    "left_link=traitlets.dlink((controller.axes[0],'value'),(car,'steering'), transform=lambda x:x)"
   ]
  },
  {
   "cell_type": "code",
   "execution_count": 20,
   "id": "225a17b2",
   "metadata": {},
   "outputs": [],
   "source": [
    "right_link=traitlets.dlink((controller.axes[3],'value'),(car,'throttle'), transform=lambda x:-x)"
   ]
  },
  {
   "cell_type": "code",
   "execution_count": null,
   "id": "7a6257da",
   "metadata": {},
   "outputs": [],
   "source": [
    "image = widgets.Image(format='jpeg', width=100, height=300)"
   ]
  },
  {
   "cell_type": "code",
   "execution_count": null,
   "id": "86551f33",
   "metadata": {},
   "outputs": [],
   "source": [
    "display(image)"
   ]
  },
  {
   "cell_type": "code",
   "execution_count": null,
   "id": "67dfd17c",
   "metadata": {},
   "outputs": [],
   "source": [
    "from jetcam.csi_camera import CSICamera\n",
    "# from jetcam.usb_camera import USBCamera\n",
    "\n",
    "camera = CSICamera(width=224, height=224)\n",
    "# camera = USBCamera(width=224, height=224)\n",
    "\n",
    "camera.running = True"
   ]
  },
  {
   "cell_type": "code",
   "execution_count": null,
   "id": "41858fe6",
   "metadata": {},
   "outputs": [],
   "source": [
    "import traitlets\n",
    "import cv2\n",
    "from PIL import Image\n",
    "import numpy as np\n",
    "\n",
    "def bgr8_to_jpeg(value, quality=75):\n",
    "    return bytes(cv2.imencode('.jpg', value)[1])\n",
    "\n",
    "camera_link = traitlets.dlink((camera, 'value'), (image, 'value'), transform=bgr8_to_jpeg)\n"
   ]
  },
  {
   "cell_type": "code",
   "execution_count": null,
   "id": "a92d4554",
   "metadata": {},
   "outputs": [],
   "source": [
    "import traitlets\n",
    "from traitlets.config.configurable import Configurable\n",
    "from traitlets import Unicode, Dict, List, Instance\n",
    "import time\n",
    "\n",
    "class Heartbeat(Configurable):\n",
    "    period = traitlets.Float(default_value=1.0)\n",
    "    status = traitlets.Unicode(default_value=\"alive\")\n",
    "\n",
    "def handle_heartbeat_status(change):\n",
    "    if change['new'] == \"dead\":\n",
    "        camera_link.unlink()\n",
    "        left_link.unlink()\n",
    "        right_link.unlink()\n",
    "        robot.stop()\n",
    "\n",
    "heartbeat = Heartbeat(period=0.5)\n",
    "\n",
    "# attach the callback function to heartbeat status\n",
    "heartbeat.observe(handle_heartbeat_status, names='status')"
   ]
  },
  {
   "cell_type": "code",
   "execution_count": null,
   "id": "64ea3852",
   "metadata": {},
   "outputs": [],
   "source": [
    "camera.unobserve_all()"
   ]
  },
  {
   "cell_type": "code",
   "execution_count": null,
   "id": "bdf522d4",
   "metadata": {},
   "outputs": [],
   "source": []
  }
 ],
 "metadata": {
  "kernelspec": {
   "display_name": "Python 3",
   "language": "python",
   "name": "python3"
  },
  "language_info": {
   "codemirror_mode": {
    "name": "ipython",
    "version": 3
   },
   "file_extension": ".py",
   "mimetype": "text/x-python",
   "name": "python",
   "nbconvert_exporter": "python",
   "pygments_lexer": "ipython3",
   "version": "3.6.9"
  }
 },
 "nbformat": 4,
 "nbformat_minor": 5
}
