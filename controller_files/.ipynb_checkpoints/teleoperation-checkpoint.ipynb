{
 "cells": [
  {
   "cell_type": "code",
   "execution_count": null,
   "id": "96cdc60a",
   "metadata": {},
   "outputs": [],
   "source": [
    "import ipywidgets.widgets as widgets"
   ]
  },
  {
   "cell_type": "code",
   "execution_count": null,
   "id": "861f2e7e",
   "metadata": {},
   "outputs": [],
   "source": [
    "controller=widgets.Controller(index=0)"
   ]
  },
  {
   "cell_type": "code",
   "execution_count": null,
   "id": "83ccd691",
   "metadata": {},
   "outputs": [],
   "source": [
    "display(controller)"
   ]
  },
  {
   "cell_type": "code",
   "execution_count": null,
   "id": "1d043142",
   "metadata": {},
   "outputs": [],
   "source": [
    "from jetracer.nvidia_racecar import NvidiaRacecar"
   ]
  },
  {
   "cell_type": "code",
   "execution_count": null,
   "id": "858d9dbf",
   "metadata": {},
   "outputs": [],
   "source": [
    "import traitlets"
   ]
  },
  {
   "cell_type": "code",
   "execution_count": null,
   "id": "ec53b3b0",
   "metadata": {},
   "outputs": [],
   "source": [
    "car=NvidiaRacecar()"
   ]
  },
  {
   "cell_type": "code",
   "execution_count": null,
   "id": "48cd20b8",
   "metadata": {},
   "outputs": [],
   "source": [
    "car.throttle_gain=0.3\n",
    "#car.throttle = 0\n",
    "car.steering_offset=0\n",
    "#car.steering=0\n",
    "car.steering_gain=-1\n",
    "\n"
   ]
  },
  {
   "cell_type": "code",
   "execution_count": null,
   "id": "87f86b3c",
   "metadata": {},
   "outputs": [],
   "source": [
    "left_link=traitlets.dlink((controller.axes[0],'value'),(car,'steering'), transform=lambda x:x)"
   ]
  },
  {
   "cell_type": "code",
   "execution_count": null,
   "id": "fafd1767",
   "metadata": {},
   "outputs": [],
   "source": [
    "right_link=traitlets.dlink((controller.axes[3],'value'),(car,'throttle'), transform=lambda x:-x)"
   ]
  },
  {
   "cell_type": "code",
   "execution_count": null,
   "id": "c467ca3b",
   "metadata": {},
   "outputs": [],
   "source": [
    "image = widgets.Image(format='jpeg', width=100, height=300)"
   ]
  },
  {
   "cell_type": "code",
   "execution_count": null,
   "id": "0656d1e0",
   "metadata": {},
   "outputs": [],
   "source": [
    "display(image)"
   ]
  },
  {
   "cell_type": "code",
   "execution_count": null,
   "id": "7fa8eaf1",
   "metadata": {},
   "outputs": [],
   "source": [
    "from jetcam.csi_camera import CSICamera\n",
    "# from jetcam.usb_camera import USBCamera\n",
    "\n",
    "camera = CSICamera(width=224, height=224)\n",
    "# camera = USBCamera(width=224, height=224)\n",
    "\n",
    "camera.running = True"
   ]
  },
  {
   "cell_type": "code",
   "execution_count": null,
   "id": "d84f0773",
   "metadata": {},
   "outputs": [],
   "source": [
    "import traitlets\n",
    "import cv2\n",
    "from PIL import Image\n",
    "import numpy as np\n",
    "\n",
    "def bgr8_to_jpeg(value, quality=75):\n",
    "    return bytes(cv2.imencode('.jpg', value)[1])\n",
    "\n",
    "camera_link = traitlets.dlink((camera, 'value'), (image, 'value'), transform=bgr8_to_jpeg)\n"
   ]
  },
  {
   "cell_type": "code",
   "execution_count": null,
   "id": "2fb9adff",
   "metadata": {},
   "outputs": [],
   "source": [
    "import traitlets\n",
    "from traitlets.config.configurable import Configurable\n",
    "from traitlets import Unicode, Dict, List, Instance\n",
    "import time\n",
    "\n",
    "class Heartbeat(Configurable):\n",
    "    period = traitlets.Float(default_value=1.0)\n",
    "    status = traitlets.Unicode(default_value=\"alive\")\n",
    "\n",
    "def handle_heartbeat_status(change):\n",
    "    if change['new'] == \"dead\":\n",
    "        camera_link.unlink()\n",
    "        left_link.unlink()\n",
    "        right_link.unlink()\n",
    "        robot.stop()\n",
    "\n",
    "heartbeat = Heartbeat(period=0.5)\n",
    "\n",
    "# attach the callback function to heartbeat status\n",
    "heartbeat.observe(handle_heartbeat_status, names='status')"
   ]
  },
  {
   "cell_type": "code",
   "execution_count": null,
   "id": "77fb5e5a",
   "metadata": {},
   "outputs": [],
   "source": [
    "camera.unobserve_all()"
   ]
  },
  {
   "cell_type": "code",
   "execution_count": null,
   "id": "b01617a9",
   "metadata": {},
   "outputs": [],
   "source": []
  }
 ],
 "metadata": {
  "kernelspec": {
   "display_name": "Python 3",
   "language": "python",
   "name": "python3"
  },
  "language_info": {
   "codemirror_mode": {
    "name": "ipython",
    "version": 3
   },
   "file_extension": ".py",
   "mimetype": "text/x-python",
   "name": "python",
   "nbconvert_exporter": "python",
   "pygments_lexer": "ipython3",
   "version": "3.6.9"
  }
 },
 "nbformat": 4,
 "nbformat_minor": 5
}
